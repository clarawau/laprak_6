{
 "cells": [
  {
   "cell_type": "code",
   "execution_count": 2,
   "id": "8e481c26",
   "metadata": {},
   "outputs": [
    {
     "name": "stdout",
     "output_type": "stream",
     "text": [
      "Masukkan suatu bilangan: 21\n",
      "Bilangan prima < 21 adalah 19\n"
     ]
    }
   ],
   "source": [
    "def cari_prima_terbesarnya(n):\n",
    "    for i in range(n - 1, 1, -1):\n",
    "        if prima(i):\n",
    "            return i\n",
    "def prima(angka):\n",
    "    if angka <= 1:\n",
    "        return False\n",
    "    for i in range(2, int(angka**0.5) + 1):\n",
    "        if angka % i == 0:\n",
    "            return False\n",
    "    return True\n",
    "n = int(input(\"Masukkan suatu bilangan: \"))\n",
    "primanya = cari_prima_terbesarnya(n)\n",
    "print(f\"Bilangan prima < {n} adalah {primanya}\")"
   ]
  },
  {
   "cell_type": "code",
   "execution_count": 3,
   "id": "94a7b38f",
   "metadata": {},
   "outputs": [
    {
     "name": "stdout",
     "output_type": "stream",
     "text": [
      "Masukkan nilai n: 6\n",
      "720 6 5 4 3 2 1 \n",
      "120 5 4 3 2 1 \n",
      "24 4 3 2 1 \n",
      "6 3 2 1 \n",
      "2 2 1 \n",
      "1 1 \n"
     ]
    }
   ],
   "source": [
    "def faktorial(angka):\n",
    "    if angka == 0 or angka == 1:\n",
    "        return 1\n",
    "    else:\n",
    "        return angka * faktorial(angka - 1)\n",
    "n = int(input(\"Masukkan nilai n: \"))\n",
    "for i in range(n, 0, -1):\n",
    "    print(faktorial(i), end=\" \")\n",
    "    for j in range(i, 0, -1):\n",
    "        print(j, end=\" \")\n",
    "    print()"
   ]
  },
  {
   "cell_type": "code",
   "execution_count": 4,
   "id": "affc916f",
   "metadata": {},
   "outputs": [
    {
     "name": "stdout",
     "output_type": "stream",
     "text": [
      "Masukkan tinggi: 5\n",
      "Masukkan lebar: 4\n",
      "1 2 3 4\n",
      "5 6 7 8\n",
      "9 10 11 12\n",
      "13 14 15 16\n",
      "17 18 19 20\n"
     ]
    }
   ],
   "source": [
    "def tampilkan_deret(tinggi, lebar):\n",
    "    mulai = 1\n",
    "    for i in range(tinggi):\n",
    "        baris = []\n",
    "        for j in range(lebar):\n",
    "            baris += [mulai]\n",
    "            mulai += 1\n",
    "        print(*baris)\n",
    "tinggi = int(input(\"Masukkan tinggi: \"))\n",
    "lebar = int(input(\"Masukkan lebar: \"))\n",
    "tampilkan_deret(tinggi, lebar)"
   ]
  },
  {
   "cell_type": "code",
   "execution_count": null,
   "id": "65841819",
   "metadata": {},
   "outputs": [],
   "source": []
  }
 ],
 "metadata": {
  "kernelspec": {
   "display_name": "Python 3 (ipykernel)",
   "language": "python",
   "name": "python3"
  },
  "language_info": {
   "codemirror_mode": {
    "name": "ipython",
    "version": 3
   },
   "file_extension": ".py",
   "mimetype": "text/x-python",
   "name": "python",
   "nbconvert_exporter": "python",
   "pygments_lexer": "ipython3",
   "version": "3.11.5"
  }
 },
 "nbformat": 4,
 "nbformat_minor": 5
}
